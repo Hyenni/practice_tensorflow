{
  "nbformat": 4,
  "nbformat_minor": 0,
  "metadata": {
    "colab": {
      "name": "softmax.ipynb",
      "version": "0.3.2",
      "provenance": [],
      "collapsed_sections": [],
      "include_colab_link": true
    },
    "kernelspec": {
      "display_name": "Python 3",
      "language": "python",
      "name": "python3"
    }
  },
  "cells": [
    {
      "cell_type": "markdown",
      "metadata": {
        "id": "view-in-github",
        "colab_type": "text"
      },
      "source": [
        "<a href=\"https://colab.research.google.com/github/Hyenni/practice_tensorflow/blob/master/softmax.ipynb\" target=\"_parent\"><img src=\"https://colab.research.google.com/assets/colab-badge.svg\" alt=\"Open In Colab\"/></a>"
      ]
    },
    {
      "metadata": {
        "id": "uFe23OYofU1O",
        "colab_type": "text"
      },
      "cell_type": "markdown",
      "source": [
        "# SOFTMAX (Image Classification)\n",
        "\n",
        "* Multinomial Classification"
      ]
    },
    {
      "metadata": {
        "id": "O_1C1wIjfU1R",
        "colab_type": "text"
      },
      "cell_type": "markdown",
      "source": [
        "### CF) MNIST IMAGE PRINT"
      ]
    },
    {
      "metadata": {
        "id": "B2qPRxp2fU1V",
        "colab_type": "code",
        "colab": {
          "base_uri": "https://localhost:8080/",
          "height": 542
        },
        "outputId": "31eafcdc-3c38-4fee-efc6-4881c1101fd9"
      },
      "cell_type": "code",
      "source": [
        "#MNIST data set download\n",
        "from tensorflow.examples.tutorials.mnist import input_data\n",
        "mnist = input_data.read_data_sets(\"./MNIST_DATA/\", one_hot=True)\n",
        "\n",
        "#train, test data load\n",
        "X_train = mnist.train.images\n",
        "Y_train = mnist.train.labels\n",
        "X_test = mnist.test.images\n",
        "Y_test = mnist.test.labels\n",
        "\n",
        "#data shape\n",
        "print(\"X_train.shape: \", X_train.shape)\n",
        "print(\"Y_train.shape: \", Y_train.shape)\n",
        "print(\"X_test.shape: \", X_test.shape)\n",
        "print(\"Y_test.shape: \", Y_test.shape)\n",
        "\n",
        "import matplotlib.pyplot as plt\n",
        "\n",
        "#show image\n",
        "digit_img = X_train[0]\n",
        "digit_label = Y_train[0]\n",
        "print(\"digit_img.shape: \", digit_img.shape)\n",
        "print(\"digit_label.shape: \", digit_label.shape)\n",
        "plt.imshow(digit_img.reshape(28, 28), cmap='gray')\n",
        "plt.title(digit_label)\n",
        "plt.show()\n"
      ],
      "execution_count": 3,
      "outputs": [
        {
          "output_type": "stream",
          "text": [
            "Extracting ./MNIST_DATA/train-images-idx3-ubyte.gz\n",
            "Extracting ./MNIST_DATA/train-labels-idx1-ubyte.gz\n",
            "Extracting ./MNIST_DATA/t10k-images-idx3-ubyte.gz\n",
            "Extracting ./MNIST_DATA/t10k-labels-idx1-ubyte.gz\n",
            "X_train.shape:  (55000, 784)\n",
            "Y_train.shape:  (55000, 10)\n",
            "X_test.shape:  (10000, 784)\n",
            "Y_test.shape:  (10000, 10)\n",
            "digit_img.shape:  (784,)\n",
            "digit_label.shape:  (10,)\n"
          ],
          "name": "stdout"
        },
        {
          "output_type": "display_data",
          "data": {
            "image/png": "[encoded data removed]",
            "text/plain": [
              "<matplotlib.figure.Figure at 0x7f73dd1f1f60>"
            ]
          },
          "metadata": {
            "tags": []
          }
        }
      ]
    },
    {
      "metadata": {
        "id": "SlnCQQICfU1i",
        "colab_type": "code",
        "colab": {
          "base_uri": "https://localhost:8080/",
          "height": 437
        },
        "outputId": "0135c282-06f7-4f73-d763-cfcbefdff112"
      },
      "cell_type": "code",
      "source": [
        "plt.imshow(digit_img.reshape(28, 28), cmap=\"winter\")\n",
        "plt.show()\n",
        "\n",
        "print(digit_img.shape)\n",
        "print(digit_img.reshape(28,28)[10,0:20])"
      ],
      "execution_count": 8,
      "outputs": [
        {
          "output_type": "display_data",
          "data": {
            "image/png": "[encoded data removed]",
            "text/plain": [
              "<matplotlib.figure.Figure at 0x7f73d9649630>"
            ]
          },
          "metadata": {
            "tags": []
          }
        },
        {
          "output_type": "stream",
          "text": [
            "(784,)\n",
            "[0.         0.         0.8862746  0.9960785  0.81568635 0.7803922\n",
            " 0.7803922  0.7803922  0.7803922  0.54509807 0.2392157  0.2392157\n",
            " 0.2392157  0.2392157  0.2392157  0.5019608  0.8705883  0.9960785\n",
            " 0.9960785  0.7411765 ]\n"
          ],
          "name": "stdout"
        }
      ]
    },
    {
      "metadata": {
        "id": "8vIra7p7fU1u",
        "colab_type": "text"
      },
      "cell_type": "markdown",
      "source": [
        "# MNIST Image Classification using Softmax"
      ]
    },
    {
      "metadata": {
        "id": "1SBHAFCSfU1y",
        "colab_type": "code",
        "colab": {
          "base_uri": "https://localhost:8080/",
          "height": 89
        },
        "outputId": "b28eb5d6-a3be-46df-b7f1-2403309a6e94"
      },
      "cell_type": "code",
      "source": [
        "#MNIST data set load\n",
        "import tensorflow as tf\n",
        "from tensorflow.examples.tutorials.mnist import input_data\n",
        "\n",
        "data = input_data.read_data_sets(\"./MNIST_DATA\", one_hot=True)"
      ],
      "execution_count": 9,
      "outputs": [
        {
          "output_type": "stream",
          "text": [
            "Extracting ./MNIST_DATA/train-images-idx3-ubyte.gz\n",
            "Extracting ./MNIST_DATA/train-labels-idx1-ubyte.gz\n",
            "Extracting ./MNIST_DATA/t10k-images-idx3-ubyte.gz\n",
            "Extracting ./MNIST_DATA/t10k-labels-idx1-ubyte.gz\n"
          ],
          "name": "stdout"
        }
      ]
    },
    {
      "metadata": {
        "id": "tw0TVsmwfU2B",
        "colab_type": "code",
        "colab": {}
      },
      "cell_type": "code",
      "source": [
        "# parameters\n",
        "NUM_STEPS = 1000\n",
        "MINIBATCH_SIZE = 100"
      ],
      "execution_count": 0,
      "outputs": []
    },
    {
      "metadata": {
        "id": "qAt35EZgfU2P",
        "colab_type": "code",
        "colab": {
          "base_uri": "https://localhost:8080/",
          "height": 181
        },
        "outputId": "ca7aa6cd-e0d8-47ff-87a6-ae29d52e0025"
      },
      "cell_type": "code",
      "source": [
        "# input placeholder\n",
        "x = tf.placeholder(tf.float32, [None, 784])\n",
        "y_true = tf.placeholder(tf.float32, [None, 10])\n",
        "\n",
        "# variables\n",
        "W = tf.Variable(tf.zeros([784, 10]))\n",
        "\n",
        "# logit\n",
        "y_pred = tf.matmul(x, W)\n",
        "\n",
        "# loss\n",
        "cross_entropy = tf.reduce_mean(\n",
        "                    tf.nn.softmax_cross_entropy_with_logits(\n",
        "                        logits=y_pred, labels=y_true))\n",
        "# optimizer\n",
        "gd_step = tf.train.GradientDescentOptimizer(0.5).minimize(cross_entropy)\n",
        "\n",
        "# accuracy\n",
        "correct_mask = tf.equal(tf.argmax(y_pred, 1), tf.argmax(y_true, 1))\n",
        "accuracy = tf.reduce_mean(tf.cast(correct_mask, tf.float32))\n"
      ],
      "execution_count": 11,
      "outputs": [
        {
          "output_type": "stream",
          "text": [
            "WARNING:tensorflow:From <ipython-input-11-057279c3752d>:13: softmax_cross_entropy_with_logits (from tensorflow.python.ops.nn_ops) is deprecated and will be removed in a future version.\n",
            "Instructions for updating:\n",
            "\n",
            "Future major versions of TensorFlow will allow gradients to flow\n",
            "into the labels input on backprop by default.\n",
            "\n",
            "See `tf.nn.softmax_cross_entropy_with_logits_v2`.\n",
            "\n"
          ],
          "name": "stdout"
        }
      ]
    },
    {
      "metadata": {
        "id": "qnfPE-2KfU2X",
        "colab_type": "code",
        "colab": {
          "base_uri": "https://localhost:8080/",
          "height": 53
        },
        "outputId": "bcc62485-a058-41fc-ba0a-fc11f912c0cd"
      },
      "cell_type": "code",
      "source": [
        "%%time\n",
        "# training\n",
        "sess = tf.Session()\n",
        "sess.run(tf.global_variables_initializer())\n",
        "\n",
        "for _ in range(NUM_STEPS):\n",
        "    batch_xs, batch_ys = data.train.next_batch(MINIBATCH_SIZE)\n",
        "    sess.run(gd_step, feed_dict={x: batch_xs, \n",
        "                                 y_true: batch_ys})"
      ],
      "execution_count": 12,
      "outputs": [
        {
          "output_type": "stream",
          "text": [
            "CPU times: user 1.57 s, sys: 152 ms, total: 1.72 s\n",
            "Wall time: 1.52 s\n"
          ],
          "name": "stdout"
        }
      ]
    },
    {
      "metadata": {
        "id": "boId227pfU2n",
        "colab_type": "code",
        "colab": {
          "base_uri": "https://localhost:8080/",
          "height": 71
        },
        "outputId": "b5507922-cbf9-4b87-fd22-6719ec8b5198"
      },
      "cell_type": "code",
      "source": [
        "%%time\n",
        "# testing\n",
        "ans = sess.run(accuracy, feed_dict={x: data.test.images,\n",
        "                                    y_true: data.test.labels})\n",
        "print(\"Accuracy: {:.4}%\".format(ans*100))"
      ],
      "execution_count": 13,
      "outputs": [
        {
          "output_type": "stream",
          "text": [
            "Accuracy: 91.55%\n",
            "CPU times: user 24.2 ms, sys: 3.85 ms, total: 28 ms\n",
            "Wall time: 36.9 ms\n"
          ],
          "name": "stdout"
        }
      ]
    },
    {
      "metadata": {
        "id": "A2YElbyAfU2y",
        "colab_type": "code",
        "colab": {
          "base_uri": "https://localhost:8080/",
          "height": 383
        },
        "outputId": "48774e51-ef9c-4973-bd66-04a5b1b9c86f"
      },
      "cell_type": "code",
      "source": [
        "import numpy as np\n",
        "\n",
        "# predict\n",
        "test_num = np.random.randint(0, data.test.images.shape[0])\n",
        "\n",
        "img = mnist.test.images[test_num]\n",
        "\n",
        "pred = sess.run(tf.argmax(y_pred, 1), feed_dict={x: [img]})\n",
        "print(\"Predicted Label: \", pred[0])\n",
        "print(\"Real Label: \", np.argmax(data.test.labels[test_num]))\n",
        "\n",
        "img = np.resize(img, (28,28))\n",
        "plt.imshow(img, cmap='gray')\n",
        "plt.show()"
      ],
      "execution_count": 88,
      "outputs": [
        {
          "output_type": "stream",
          "text": [
            "Predicted Label:  8\n",
            "Real Label:  3\n"
          ],
          "name": "stdout"
        },
        {
          "output_type": "display_data",
          "data": {
            "image/png": "[encoded data removed]",
            "text/plain": [
              "<matplotlib.figure.Figure at 0x7f73d5fef048>"
            ]
          },
          "metadata": {
            "tags": []
          }
        }
      ]
    },
    {
      "metadata": {
        "id": "1xlfbZloko9_",
        "colab_type": "code",
        "colab": {
          "base_uri": "https://localhost:8080/",
          "height": 383
        },
        "outputId": "b0e3a5ac-c6da-4ed4-c601-2b583615a392"
      },
      "cell_type": "code",
      "source": [
        "test_num2 = np.random.randint(0, data.test.images.shape[0])\n",
        "\n",
        "img2 = mnist.test.images[test_num2]\n",
        "\n",
        "pred2 = sess.run(tf.argmax(y_pred, 1), feed_dict={x: [img2]})\n",
        "print(\"Predicted Label: \", pred2[0])\n",
        "print(\"Real Label: \", np.argmax(data.test.labels[test_num2]))\n",
        "\n",
        "img2 = np.resize(img2, (28,28))\n",
        "plt.imshow(img2, cmap='gray')\n",
        "plt.show()"
      ],
      "execution_count": 92,
      "outputs": [
        {
          "output_type": "stream",
          "text": [
            "Predicted Label:  1\n",
            "Real Label:  1\n"
          ],
          "name": "stdout"
        },
        {
          "output_type": "display_data",
          "data": {
            "image/png": "[encoded data removed]",
            "text/plain": [
              "<matplotlib.figure.Figure at 0x7f73d5f88be0>"
            ]
          },
          "metadata": {
            "tags": []
          }
        }
      ]
    }
  ]
}