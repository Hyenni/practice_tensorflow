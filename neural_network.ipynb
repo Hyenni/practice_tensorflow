{
  "nbformat": 4,
  "nbformat_minor": 0,
  "metadata": {
    "colab": {
      "name": "neural_network.ipynb",
      "version": "0.3.2",
      "provenance": [],
      "collapsed_sections": [],
      "include_colab_link": true
    },
    "kernelspec": {
      "display_name": "Python 3",
      "language": "python",
      "name": "python3"
    }
  },
  "cells": [
    {
      "cell_type": "markdown",
      "metadata": {
        "id": "view-in-github",
        "colab_type": "text"
      },
      "source": [
        "<a href=\"https://colab.research.google.com/github/Hyenni/practice_tensorflow/blob/master/neural_network.ipynb\" target=\"_parent\"><img src=\"https://colab.research.google.com/assets/colab-badge.svg\" alt=\"Open In Colab\"/></a>"
      ]
    },
    {
      "metadata": {
        "id": "T-a6hiLEtail",
        "colab_type": "text"
      },
      "cell_type": "markdown",
      "source": [
        "# MNIST Image Classification using Neural Network\n",
        "\n",
        "* 5 layer Neural Network\n",
        "\n",
        "   * 200 -> 100 -> 60 -> 30 (sigmoid) -> 10 (softmax)"
      ]
    },
    {
      "metadata": {
        "id": "QerqESi4tair",
        "colab_type": "code",
        "colab": {}
      },
      "cell_type": "code",
      "source": [
        "import tensorflow as tf\n",
        "from tensorflow.examples.tutorials.mnist import input_data"
      ],
      "execution_count": 0,
      "outputs": []
    },
    {
      "metadata": {
        "id": "KGbLsLfztai5",
        "colab_type": "code",
        "colab": {}
      },
      "cell_type": "code",
      "source": [
        "# parameters\n",
        "batch_size = 100\n",
        "learning_rate = 0.003\n",
        "training_epochs = 10"
      ],
      "execution_count": 0,
      "outputs": []
    },
    {
      "metadata": {
        "id": "dA1TJ5AKtajE",
        "colab_type": "code",
        "colab": {
          "base_uri": "https://localhost:8080/",
          "height": 487
        },
        "outputId": "a66ffc8d-77f4-4264-f284-61037f7903a5"
      },
      "cell_type": "code",
      "source": [
        "# MNIST data set\n",
        "mnist = input_data.read_data_sets(\"./MNIST_DATA\", one_hot=True)\n",
        "\n",
        "print(\"# of Train Data: \", mnist.train.num_examples)\n",
        "print(\"# of Test Data: \", mnist.test.num_examples)\n",
        "print(\"# of Validation Data: \", mnist.validation.num_examples)"
      ],
      "execution_count": 3,
      "outputs": [
        {
          "output_type": "stream",
          "text": [
            "WARNING:tensorflow:From <ipython-input-3-5c699c259ba9>:1: read_data_sets (from tensorflow.contrib.learn.python.learn.datasets.mnist) is deprecated and will be removed in a future version.\n",
            "Instructions for updating:\n",
            "Please use alternatives such as official/mnist/dataset.py from tensorflow/models.\n",
            "WARNING:tensorflow:From /usr/local/lib/python3.6/dist-packages/tensorflow/contrib/learn/python/learn/datasets/mnist.py:260: maybe_download (from tensorflow.contrib.learn.python.learn.datasets.base) is deprecated and will be removed in a future version.\n",
            "Instructions for updating:\n",
            "Please write your own downloading logic.\n",
            "WARNING:tensorflow:From /usr/local/lib/python3.6/dist-packages/tensorflow/contrib/learn/python/learn/datasets/mnist.py:262: extract_images (from tensorflow.contrib.learn.python.learn.datasets.mnist) is deprecated and will be removed in a future version.\n",
            "Instructions for updating:\n",
            "Please use tf.data to implement this functionality.\n",
            "Extracting ./MNIST_DATA/train-images-idx3-ubyte.gz\n",
            "WARNING:tensorflow:From /usr/local/lib/python3.6/dist-packages/tensorflow/contrib/learn/python/learn/datasets/mnist.py:267: extract_labels (from tensorflow.contrib.learn.python.learn.datasets.mnist) is deprecated and will be removed in a future version.\n",
            "Instructions for updating:\n",
            "Please use tf.data to implement this functionality.\n",
            "Extracting ./MNIST_DATA/train-labels-idx1-ubyte.gz\n",
            "WARNING:tensorflow:From /usr/local/lib/python3.6/dist-packages/tensorflow/contrib/learn/python/learn/datasets/mnist.py:110: dense_to_one_hot (from tensorflow.contrib.learn.python.learn.datasets.mnist) is deprecated and will be removed in a future version.\n",
            "Instructions for updating:\n",
            "Please use tf.one_hot on tensors.\n",
            "Extracting ./MNIST_DATA/t10k-images-idx3-ubyte.gz\n",
            "Extracting ./MNIST_DATA/t10k-labels-idx1-ubyte.gz\n",
            "WARNING:tensorflow:From /usr/local/lib/python3.6/dist-packages/tensorflow/contrib/learn/python/learn/datasets/mnist.py:290: DataSet.__init__ (from tensorflow.contrib.learn.python.learn.datasets.mnist) is deprecated and will be removed in a future version.\n",
            "Instructions for updating:\n",
            "Please use alternatives such as official/mnist/dataset.py from tensorflow/models.\n",
            "# of Train Data:  55000\n",
            "# of Test Data:  10000\n",
            "# of Validation Data:  5000\n"
          ],
          "name": "stdout"
        }
      ]
    },
    {
      "metadata": {
        "id": "9Tx6tomEtajT",
        "colab_type": "code",
        "colab": {
          "base_uri": "https://localhost:8080/",
          "height": 71
        },
        "outputId": "fbf2b885-dd9e-40a3-9946-955321befc9e"
      },
      "cell_type": "code",
      "source": [
        "# Network Layers\n",
        "L = 200\n",
        "M = 100\n",
        "N = 60\n",
        "O = 30\n",
        "\n",
        "# input\n",
        "X = tf.placeholder(tf.float32, [None, 784])\n",
        "Y_ = tf.placeholder(tf.float32, [None, 10])\n",
        "\n",
        "XX = tf.reshape(X, [-1, 784])\n",
        "\n",
        "print(X)\n",
        "print(Y_)\n",
        "print(XX)"
      ],
      "execution_count": 4,
      "outputs": [
        {
          "output_type": "stream",
          "text": [
            "Tensor(\"Placeholder:0\", shape=(?, 784), dtype=float32)\n",
            "Tensor(\"Placeholder_1:0\", shape=(?, 10), dtype=float32)\n",
            "Tensor(\"Reshape:0\", shape=(?, 784), dtype=float32)\n"
          ],
          "name": "stdout"
        }
      ]
    },
    {
      "metadata": {
        "id": "_HF9jdrYtajd",
        "colab_type": "code",
        "colab": {}
      },
      "cell_type": "code",
      "source": [
        "# Layer1 (L=200)\n",
        "W1 = tf.Variable(tf.truncated_normal([784, L], stddev=0.1))\n",
        "B1 = tf.Variable(tf.zeros([L]))\n",
        "Y1 = tf.nn.sigmoid(tf.matmul(XX, W1) + B1)"
      ],
      "execution_count": 0,
      "outputs": []
    },
    {
      "metadata": {
        "id": "pBGnVMoxtajn",
        "colab_type": "code",
        "colab": {}
      },
      "cell_type": "code",
      "source": [
        "# Layer2 (M=100)\n",
        "W2 = tf.Variable(tf.truncated_normal([L, M], stddev=0.1))\n",
        "B2 = tf.Variable(tf.zeros([M]))\n",
        "Y2 = tf.nn.sigmoid(tf.matmul(Y1, W2) + B2)"
      ],
      "execution_count": 0,
      "outputs": []
    },
    {
      "metadata": {
        "id": "cl7TepIStajv",
        "colab_type": "code",
        "colab": {}
      },
      "cell_type": "code",
      "source": [
        "# Layer3 (N=60)\n",
        "W3 = tf.Variable(tf.truncated_normal([M, N], stddev=0.1))\n",
        "B3 = tf.Variable(tf.zeros([N]))\n",
        "Y3 = tf.nn.sigmoid(tf.matmul(Y2, W3) + B3)"
      ],
      "execution_count": 0,
      "outputs": []
    },
    {
      "metadata": {
        "id": "fTIUNCzltaj3",
        "colab_type": "code",
        "colab": {}
      },
      "cell_type": "code",
      "source": [
        "# Layer4 (O=30)\n",
        "W4 = tf.Variable(tf.truncated_normal([N, O], stddev=0.1))\n",
        "B4 = tf.Variable(tf.zeros([O]))\n",
        "Y4 = tf.nn.sigmoid(tf.matmul(Y3, W4) + B4)"
      ],
      "execution_count": 0,
      "outputs": []
    },
    {
      "metadata": {
        "id": "A_T0Yc6staj_",
        "colab_type": "code",
        "colab": {}
      },
      "cell_type": "code",
      "source": [
        "# Output Layer (Y=10)\n",
        "W5 = tf.Variable(tf.truncated_normal([O, 10], stddev=0.1))\n",
        "B5 = tf.Variable(tf.zeros([10]))\n",
        "Ylogits = tf.matmul(Y4, W5) + B5\n",
        "Y = tf.nn.softmax(Ylogits)"
      ],
      "execution_count": 0,
      "outputs": []
    },
    {
      "metadata": {
        "id": "kC2_bQYbtakM",
        "colab_type": "code",
        "colab": {
          "base_uri": "https://localhost:8080/",
          "height": 181
        },
        "outputId": "3e3c447b-6d5f-44a4-8b42-620b8087aad0"
      },
      "cell_type": "code",
      "source": [
        "# Loss function (Cross Entropy)\n",
        "cross_entropy = tf.nn.softmax_cross_entropy_with_logits(\n",
        "                    logits=Ylogits, labels=Y_)\n",
        "cross_entropy = tf.reduce_mean(cross_entropy)*100\n",
        "\n",
        "# Optimize (Adam)\n",
        "train_step = tf.train.AdamOptimizer(\n",
        "                learning_rate).minimize(cross_entropy)\n",
        "# train_step = tf.train.GradientDescentOptimizer(learning_rate).minimize(cross_entropy)\n"
      ],
      "execution_count": 10,
      "outputs": [
        {
          "output_type": "stream",
          "text": [
            "WARNING:tensorflow:From <ipython-input-10-9c21641724c4>:2: softmax_cross_entropy_with_logits (from tensorflow.python.ops.nn_ops) is deprecated and will be removed in a future version.\n",
            "Instructions for updating:\n",
            "\n",
            "Future major versions of TensorFlow will allow gradients to flow\n",
            "into the labels input on backprop by default.\n",
            "\n",
            "See `tf.nn.softmax_cross_entropy_with_logits_v2`.\n",
            "\n"
          ],
          "name": "stdout"
        }
      ]
    },
    {
      "metadata": {
        "id": "EMaDTChQtakT",
        "colab_type": "code",
        "colab": {}
      },
      "cell_type": "code",
      "source": [
        "# accuracy\n",
        "correct_prediction = tf.equal(tf.argmax(Y, 1), tf.argmax(Y_, 1))\n",
        "accuracy = tf.reduce_mean(\n",
        "                tf.cast(correct_prediction, tf.float32))"
      ],
      "execution_count": 0,
      "outputs": []
    },
    {
      "metadata": {
        "id": "Edlov6-QtakZ",
        "colab_type": "code",
        "colab": {}
      },
      "cell_type": "code",
      "source": [
        "# session\n",
        "sess = tf.Session()\n",
        "sess.run(tf.global_variables_initializer())"
      ],
      "execution_count": 0,
      "outputs": []
    },
    {
      "metadata": {
        "id": "z_QyI-citakj",
        "colab_type": "code",
        "colab": {
          "base_uri": "https://localhost:8080/",
          "height": 233
        },
        "outputId": "fcb68fc9-020a-4dbb-88ac-9e1ada31b5ff"
      },
      "cell_type": "code",
      "source": [
        "%%time\n",
        "# train\n",
        "for epoch in range(training_epochs):\n",
        "    batch_count = int(mnist.train.num_examples/batch_size)\n",
        "    for i in range(batch_count):\n",
        "        batch_x, batch_y = mnist.train.next_batch(batch_size)\n",
        "        _, acc = sess.run([train_step, accuracy], \n",
        "                             feed_dict={X: batch_x,\n",
        "                                        Y_: batch_y})\n",
        "    print(\"Epoch: \", epoch, \"\\tAccuracy: \", acc)"
      ],
      "execution_count": 13,
      "outputs": [
        {
          "output_type": "stream",
          "text": [
            "Epoch:  0 \tAccuracy:  0.92\n",
            "Epoch:  1 \tAccuracy:  0.97\n",
            "Epoch:  2 \tAccuracy:  0.99\n",
            "Epoch:  3 \tAccuracy:  0.97\n",
            "Epoch:  4 \tAccuracy:  0.99\n",
            "Epoch:  5 \tAccuracy:  1.0\n",
            "Epoch:  6 \tAccuracy:  0.98\n",
            "Epoch:  7 \tAccuracy:  0.99\n",
            "Epoch:  8 \tAccuracy:  0.98\n",
            "Epoch:  9 \tAccuracy:  0.96\n",
            "CPU times: user 31.2 s, sys: 1.93 s, total: 33.2 s\n",
            "Wall time: 20.2 s\n"
          ],
          "name": "stdout"
        }
      ]
    },
    {
      "metadata": {
        "id": "U6p5aMs7taks",
        "colab_type": "code",
        "colab": {
          "base_uri": "https://localhost:8080/",
          "height": 53
        },
        "outputId": "a6ecb575-bbd2-4fd8-ef4f-c42fe40781ee"
      },
      "cell_type": "code",
      "source": [
        "# test accuracy\n",
        "print(\"Test Accuracy: \", sess.run(accuracy,\n",
        "                            feed_dict={X: mnist.test.images,\n",
        "                                       Y_: mnist.test.labels}))\n",
        "print(\"done\")"
      ],
      "execution_count": 21,
      "outputs": [
        {
          "output_type": "stream",
          "text": [
            "Test Accuracy:  0.9712\n",
            "done\n"
          ],
          "name": "stdout"
        }
      ]
    },
    {
      "metadata": {
        "id": "RvMbaUYzwlxX",
        "colab_type": "text"
      },
      "cell_type": "markdown",
      "source": [
        "##Vanishing Gradient Problem\n",
        "\n",
        "* Because difference value is small by sigmoid, it becomes difficult to learn because it is closer to zero if it is continuously multiplied by backpropagation.\n",
        "\n",
        "* solution => ReLU (difference value is 0 or 1)"
      ]
    },
    {
      "metadata": {
        "id": "towK0xQgtak1",
        "colab_type": "text"
      },
      "cell_type": "markdown",
      "source": [
        "## ReLU\n",
        "\n",
        "* 5 layer Neural Network\n",
        "\n",
        "   * 200 -> 100 -> 60 -> 30 (relu) -> 10 (softmax)"
      ]
    },
    {
      "metadata": {
        "id": "dostVCgRtak5",
        "colab_type": "code",
        "colab": {
          "base_uri": "https://localhost:8080/",
          "height": 53
        },
        "outputId": "c3ad4864-6fd9-4de0-8b11-b67905fba5a7"
      },
      "cell_type": "code",
      "source": [
        "%%time\n",
        "import tensorflow as tf\n",
        "from tensorflow.examples.tutorials.mnist import input_data"
      ],
      "execution_count": 15,
      "outputs": [
        {
          "output_type": "stream",
          "text": [
            "CPU times: user 13 µs, sys: 1 µs, total: 14 µs\n",
            "Wall time: 19.1 µs\n"
          ],
          "name": "stdout"
        }
      ]
    },
    {
      "metadata": {
        "id": "MCT8GWAd02io",
        "colab_type": "code",
        "colab": {}
      },
      "cell_type": "code",
      "source": [
        "# parameters\n",
        "batch_size = 100\n",
        "learning_rate = 0.003\n",
        "training_epochs = 10"
      ],
      "execution_count": 0,
      "outputs": []
    },
    {
      "metadata": {
        "id": "jsRh1bPS06Qi",
        "colab_type": "code",
        "colab": {
          "base_uri": "https://localhost:8080/",
          "height": 89
        },
        "outputId": "c5705729-98fa-4f0b-ce1d-45eb8a316d18"
      },
      "cell_type": "code",
      "source": [
        "# MNIST data set\n",
        "mnist = input_data.read_data_sets(\"./MNIST_DATA\", one_hot=True)\n",
        "\n",
        "# Network Layers\n",
        "L = 200\n",
        "M = 100\n",
        "N = 60\n",
        "O = 30\n",
        "\n",
        "# input\n",
        "X = tf.placeholder(tf.float32, [None, 784])\n",
        "Y_ = tf.placeholder(tf.float32, [None, 10])\n",
        "\n",
        "XX = tf.reshape(X, [-1, 784])"
      ],
      "execution_count": 17,
      "outputs": [
        {
          "output_type": "stream",
          "text": [
            "Extracting ./MNIST_DATA/train-images-idx3-ubyte.gz\n",
            "Extracting ./MNIST_DATA/train-labels-idx1-ubyte.gz\n",
            "Extracting ./MNIST_DATA/t10k-images-idx3-ubyte.gz\n",
            "Extracting ./MNIST_DATA/t10k-labels-idx1-ubyte.gz\n"
          ],
          "name": "stdout"
        }
      ]
    },
    {
      "metadata": {
        "id": "n70YcLUz1F-y",
        "colab_type": "code",
        "colab": {}
      },
      "cell_type": "code",
      "source": [
        "# Layer1 (L=200)\n",
        "W1 = tf.Variable(tf.truncated_normal([784, L], stddev=0.1))\n",
        "B1 = tf.Variable(tf.zeros([L]))\n",
        "Y1 = tf.nn.relu(tf.matmul(XX, W1) + B1)\n",
        "\n",
        "# Layer2 (M=100)\n",
        "W2 = tf.Variable(tf.truncated_normal([L, M], stddev=0.1))\n",
        "B2 = tf.Variable(tf.zeros([M]))\n",
        "Y2 = tf.nn.relu(tf.matmul(Y1, W2) + B2)\n",
        "\n",
        "# Layer3 (N=60)\n",
        "W3 = tf.Variable(tf.truncated_normal([M, N], stddev=0.1))\n",
        "B3 = tf.Variable(tf.zeros([N]))\n",
        "Y3 = tf.nn.relu(tf.matmul(Y2, W3) + B3)\n",
        "\n",
        "# Layer4 (O=30)\n",
        "W4 = tf.Variable(tf.truncated_normal([N, O], stddev=0.1))\n",
        "B4 = tf.Variable(tf.zeros([O]))\n",
        "Y4 = tf.nn.relu(tf.matmul(Y3, W4) + B4)\n",
        "\n",
        "# Output Layer (Y=10)\n",
        "W5 = tf.Variable(tf.truncated_normal([O, 10], stddev=0.1))\n",
        "B5 = tf.Variable(tf.zeros([10]))\n",
        "Ylogits = tf.matmul(Y4, W5) + B5\n",
        "Y = tf.nn.softmax(Ylogits)"
      ],
      "execution_count": 0,
      "outputs": []
    },
    {
      "metadata": {
        "id": "rLV3dsQl1JX7",
        "colab_type": "code",
        "colab": {}
      },
      "cell_type": "code",
      "source": [
        "# Loss function (Cross Entropy)\n",
        "cross_entropy = tf.nn.softmax_cross_entropy_with_logits(\n",
        "                    logits=Ylogits, labels=Y_)\n",
        "cross_entropy = tf.reduce_mean(cross_entropy)*100\n",
        "\n",
        "# Optimize (Adam)\n",
        "train_step = tf.train.AdamOptimizer(\n",
        "                learning_rate).minimize(cross_entropy)\n",
        "\n",
        "# accuracy\n",
        "correct_prediction = tf.equal(tf.argmax(Y, 1), tf.argmax(Y_, 1))\n",
        "accuracy = tf.reduce_mean(\n",
        "                tf.cast(correct_prediction, tf.float32))"
      ],
      "execution_count": 0,
      "outputs": []
    },
    {
      "metadata": {
        "id": "Xh3vp2o1135h",
        "colab_type": "code",
        "colab": {
          "base_uri": "https://localhost:8080/",
          "height": 233
        },
        "outputId": "52a17349-000f-4728-fa04-65686b08e2fe"
      },
      "cell_type": "code",
      "source": [
        "# session\n",
        "sess = tf.Session()\n",
        "sess.run(tf.global_variables_initializer())\n",
        "\n",
        "# train\n",
        "for epoch in range(training_epochs):\n",
        "    batch_count = int(mnist.train.num_examples/batch_size)\n",
        "    for i in range(batch_count):\n",
        "        batch_x, batch_y = mnist.train.next_batch(batch_size)\n",
        "        _, acc = sess.run([train_step, accuracy], \n",
        "                             feed_dict={X: batch_x,\n",
        "                                        Y_: batch_y})\n",
        "    print(\"Epoch: \", epoch, \"\\tAccuracy: \", acc)\n",
        "\n",
        "# test accuracy\n",
        "print(\"Test Accuracy: \", sess.run(accuracy,\n",
        "                            feed_dict={X: mnist.test.images,\n",
        "                                       Y_: mnist.test.labels}))\n",
        "print(\"done\")"
      ],
      "execution_count": 27,
      "outputs": [
        {
          "output_type": "stream",
          "text": [
            "Epoch:  0 \tAccuracy:  0.96\n",
            "Epoch:  1 \tAccuracy:  0.98\n",
            "Epoch:  2 \tAccuracy:  0.98\n",
            "Epoch:  3 \tAccuracy:  0.98\n",
            "Epoch:  4 \tAccuracy:  0.98\n",
            "Epoch:  5 \tAccuracy:  0.98\n",
            "Epoch:  6 \tAccuracy:  1.0\n",
            "Epoch:  7 \tAccuracy:  0.99\n",
            "Epoch:  8 \tAccuracy:  1.0\n",
            "Epoch:  9 \tAccuracy:  0.99\n",
            "Test Accuracy:  0.9755\n",
            "done\n"
          ],
          "name": "stdout"
        }
      ]
    },
    {
      "metadata": {
        "id": "k4lb7FXO3Dfp",
        "colab_type": "text"
      },
      "cell_type": "markdown",
      "source": [
        "##Overfitting Problem\n",
        "\n",
        "* A problem that is optimized for learning data and has very poor inference performance for test data.\n",
        "\n",
        "* solution => Dropout"
      ]
    },
    {
      "metadata": {
        "id": "qB3KgYYZtalI",
        "colab_type": "text"
      },
      "cell_type": "markdown",
      "source": [
        "## Dropout\n",
        "\n",
        "* using Regularization method "
      ]
    },
    {
      "metadata": {
        "id": "iMWjy7cbtalL",
        "colab_type": "code",
        "colab": {}
      },
      "cell_type": "code",
      "source": [
        "import tensorflow as tf\n",
        "from tensorflow.examples.tutorials.mnist import input_data\n",
        "import math"
      ],
      "execution_count": 0,
      "outputs": []
    },
    {
      "metadata": {
        "id": "IgjpigDLtald",
        "colab_type": "code",
        "colab": {}
      },
      "cell_type": "code",
      "source": [
        "# parameters\n",
        "batch_size = 100\n",
        "learning_rate = 0.003\n",
        "training_epochs = 10"
      ],
      "execution_count": 0,
      "outputs": []
    },
    {
      "metadata": {
        "id": "EehELE014lAE",
        "colab_type": "code",
        "colab": {
          "base_uri": "https://localhost:8080/",
          "height": 89
        },
        "outputId": "af89a3c3-6cbb-4e98-cd03-606b78048127"
      },
      "cell_type": "code",
      "source": [
        "# MNIST data set\n",
        "mnist = input_data.read_data_sets(\"./MNIST_DATA\", one_hot=True)\n",
        "\n",
        "# Network Layers\n",
        "L = 200\n",
        "M = 100\n",
        "N = 60\n",
        "O = 30\n",
        "\n",
        "# input\n",
        "X = tf.placeholder(tf.float32, [None, 784])\n",
        "Y_ = tf.placeholder(tf.float32, [None, 10])\n",
        "# dropout ration (0.75 => 75% data keep, 25% data dropout)\n",
        "dropout_ratio = tf.placeholder(tf.float32)\n",
        "\n",
        "XX = tf.reshape(X, [-1, 784])"
      ],
      "execution_count": 30,
      "outputs": [
        {
          "output_type": "stream",
          "text": [
            "Extracting ./MNIST_DATA/train-images-idx3-ubyte.gz\n",
            "Extracting ./MNIST_DATA/train-labels-idx1-ubyte.gz\n",
            "Extracting ./MNIST_DATA/t10k-images-idx3-ubyte.gz\n",
            "Extracting ./MNIST_DATA/t10k-labels-idx1-ubyte.gz\n"
          ],
          "name": "stdout"
        }
      ]
    },
    {
      "metadata": {
        "id": "nOXejiHE4qrR",
        "colab_type": "code",
        "colab": {}
      },
      "cell_type": "code",
      "source": [
        "# Layer1 (L=200)\n",
        "W1 = tf.Variable(tf.truncated_normal([784, L], stddev=0.1))\n",
        "B1 = tf.Variable(tf.zeros([L]))\n",
        "Y1 = tf.nn.relu(tf.matmul(XX, W1) + B1)\n",
        "Y1d = tf.nn.dropout(Y1, dropout_ratio)\n",
        "\n",
        "# Layer2 (M=100)\n",
        "W2 = tf.Variable(tf.truncated_normal([L, M], stddev=0.1))\n",
        "B2 = tf.Variable(tf.zeros([M]))\n",
        "Y2 = tf.nn.relu(tf.matmul(Y1d, W2) + B2)\n",
        "Y2d = tf.nn.dropout(Y2, dropout_ratio)\n",
        "\n",
        "# Layer3 (N=60)\n",
        "W3 = tf.Variable(tf.truncated_normal([M, N], stddev=0.1))\n",
        "B3 = tf.Variable(tf.zeros([N]))\n",
        "Y3 = tf.nn.relu(tf.matmul(Y2d, W3) + B3)\n",
        "Y3d = tf.nn.dropout(Y3, dropout_ratio)\n",
        "\n",
        "# Layer4 (O=30)\n",
        "W4 = tf.Variable(tf.truncated_normal([N, O], stddev=0.1))\n",
        "B4 = tf.Variable(tf.zeros([O]))\n",
        "Y4 = tf.nn.relu(tf.matmul(Y3d, W4) + B4)\n",
        "Y4d = tf.nn.dropout(Y4, dropout_ratio)\n",
        "\n",
        "# Output Layer (Y=10)\n",
        "W5 = tf.Variable(tf.truncated_normal([O, 10], stddev=0.1))\n",
        "B5 = tf.Variable(tf.zeros([10]))\n",
        "Ylogits = tf.matmul(Y4, W5) + B5\n",
        "Y = tf.nn.softmax(Ylogits)"
      ],
      "execution_count": 0,
      "outputs": []
    },
    {
      "metadata": {
        "id": "wll8bb084tER",
        "colab_type": "code",
        "colab": {}
      },
      "cell_type": "code",
      "source": [
        "\n",
        "# Loss function (Cross Entropy)\n",
        "cross_entropy = tf.nn.softmax_cross_entropy_with_logits(\n",
        "                    logits=Ylogits, labels=Y_)\n",
        "cross_entropy = tf.reduce_mean(cross_entropy)*100\n",
        "\n",
        "# Optimize (Adam)\n",
        "train_step = tf.train.AdamOptimizer(\n",
        "                learning_rate).minimize(cross_entropy)\n",
        "\n",
        "# accuracy\n",
        "correct_prediction = tf.equal(tf.argmax(Y, 1), tf.argmax(Y_, 1))\n",
        "accuracy = tf.reduce_mean(\n",
        "                tf.cast(correct_prediction, tf.float32))"
      ],
      "execution_count": 0,
      "outputs": []
    },
    {
      "metadata": {
        "id": "t2vcaIXj4x1i",
        "colab_type": "code",
        "colab": {
          "base_uri": "https://localhost:8080/",
          "height": 233
        },
        "outputId": "4c1ade3b-0d36-417b-e280-5de4dc0e766b"
      },
      "cell_type": "code",
      "source": [
        "# session\n",
        "sess = tf.Session()\n",
        "sess.run(tf.global_variables_initializer())\n",
        "\n",
        "# train\n",
        "for epoch in range(training_epochs):\n",
        "    batch_count = int(mnist.train.num_examples/batch_size)\n",
        "    for i in range(batch_count):\n",
        "        batch_x, batch_y = mnist.train.next_batch(batch_size)\n",
        "        _, acc = sess.run([train_step, accuracy], \n",
        "                             feed_dict={X: batch_x,\n",
        "                                        Y_: batch_y,\n",
        "                                        dropout_ratio: 0.75}) #75% keep, 25% dropout\n",
        "    print(\"Epoch: \", epoch, \"\\tAccuracy: \", acc)\n",
        "\n",
        "# test accuracy\n",
        "print(\"Test Accuracy: \", sess.run(accuracy,\n",
        "                            feed_dict={X: mnist.test.images,\n",
        "                                       Y_: mnist.test.labels,\n",
        "                                       dropout_ratio: 1.0})) #if test case, 100% keep (not dropout)\n",
        "print(\"done\")"
      ],
      "execution_count": 33,
      "outputs": [
        {
          "output_type": "stream",
          "text": [
            "Epoch:  0 \tAccuracy:  0.92\n",
            "Epoch:  1 \tAccuracy:  0.93\n",
            "Epoch:  2 \tAccuracy:  0.94\n",
            "Epoch:  3 \tAccuracy:  0.99\n",
            "Epoch:  4 \tAccuracy:  0.94\n",
            "Epoch:  5 \tAccuracy:  0.93\n",
            "Epoch:  6 \tAccuracy:  0.95\n",
            "Epoch:  7 \tAccuracy:  0.98\n",
            "Epoch:  8 \tAccuracy:  0.96\n",
            "Epoch:  9 \tAccuracy:  0.95\n",
            "Test Accuracy:  0.9792\n",
            "done\n"
          ],
          "name": "stdout"
        }
      ]
    }
  ]
}